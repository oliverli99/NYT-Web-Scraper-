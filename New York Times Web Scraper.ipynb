{
 "cells": [
  {
   "cell_type": "code",
   "execution_count": 8,
   "metadata": {
    "scrolled": true
   },
   "outputs": [],
   "source": [
    "import requests\n",
    "import re \n",
    "from bs4 import BeautifulSoup \n",
    "import pandas as pd \n",
    "import numpy as np \n",
    "\n",
    "\n",
    "data = {} \n",
    "\n",
    "listofstates = ['Alabama', 'Alaska', 'Arizona', 'Arkansas', 'California', 'Colorado', 'Connecticut', 'Delaware', 'Florida', 'Georgia', 'Hawaii', 'Idaho', 'Illinois', 'Indiana', 'Iowa', 'Kansas', 'Kentucky', 'Louisiana', 'Maine', 'Maryland', 'Massachusetts', 'Michigan', 'Minnesota', 'Mississippi', 'Missouri', 'Montana', 'Nebraska', 'Nevada', 'New Hampshire', 'New Jersey', 'New Mexico', 'New York', 'North Carolina', 'North Dakota', 'Ohio', 'Oklahoma', 'Oregon', 'Pennsylvania', 'Rhode Island', 'South Carolina', 'South Dakota', 'Tennessee', 'Texas', 'Utah', 'Vermont', 'Virginia', 'Washington', 'West Virginia', 'Wisconsin', 'Wyoming']\n",
    "\n",
    "URL = \"https://www.nytimes.com/interactive/2020/us/states-reopen-map-coronavirus.html\"\n",
    "\n",
    "page = requests.get(URL) \n",
    "\n",
    "soup = BeautifulSoup(page.content, 'html.parser')\n",
    "\n",
    "mydivs = soup.findAll(\"div\", {\"class\": \"g-inner-box\"})\n",
    "\n",
    "\n",
    "statelist = [] \n",
    "reopenedplaceslist = [] \n",
    "orderexpirationlist = []\n",
    "reopenedboollist = [] \n",
    "\n",
    "for div in mydivs: \n",
    "    state = div.find(\"div\", {\"data-state\" : re.compile(r\".*\")})['data-state']\n",
    "    \n",
    "    statelist.append(state)\n",
    "    \n",
    "    try: \n",
    "        reopenedbool = div.find(\"div\", {\"class\": 'g-details-subhed'}).text\n",
    "    except: \n",
    "        reopenedbool = 'Not Reopened'\n",
    "    \n",
    "    \n",
    "    reopenedboollist.append(reopenedbool)\n",
    "    \n",
    "    #grab list of reopened places \n",
    "    reopenedplaces = div.find_all(\"div\", {\"class\": 'g-cat-name'})\n",
    "\n",
    "    #change list of reopenedplaces to text \n",
    "    for i in range(len(reopenedplaces)):\n",
    "        reopenedplaces[i] = reopenedplaces[i].text\n",
    "    \n",
    "    reopenedplaceslist.append(reopenedplaces)\n",
    "    \n",
    "\n",
    "    \n",
    "    orderexpiration = div.find(\"span\", {\"class\": 'g-date-details-text'}).text\n",
    "        \n",
    "    orderexpirationlist.append(orderexpiration)\n",
    "    \n",
    "\n",
    "    \n",
    "df = pd.DataFrame() \n",
    "df['State'] = statelist\n",
    "df['Reopened'] = reopenedbool\n",
    "\n",
    "df['Reopened Places Overview'] = reopenedplaceslist\n",
    "df['Order Expiration'] = orderexpirationlist    \n",
    "\n",
    "df['Outdoor and recreation'] = False \n",
    "df['Retail'] = False \n",
    "df['Food and drink'] = False \n",
    "df['Personal care'] = False \n",
    "df['Entertainment'] = False \n",
    "df['Industries'] = False \n",
    "df['Houses of worship'] = False \n",
    "\n",
    "\n",
    "\n",
    "## PLEASE NOTE: MARYLAND IS AN EXCEPTION. do not have as granular as wanted. reopening soon is not its own section\n",
    "\n",
    "for index, row in df.iterrows():\n",
    "    templist = row[\"Reopened Places Overview\"]\n",
    "    if \"Outdoor and recreation\" in templist: \n",
    "        df.iloc[index, df.columns.get_loc(\"Outdoor and recreation\")] = True \n",
    "\n",
    "    if \"Retail\" in templist: \n",
    "        df.iloc[index, df.columns.get_loc(\"Retail\")] = True \n",
    "    \n",
    "    if \"Food and drink\" in templist: \n",
    "        df.iloc[index, df.columns.get_loc(\"Food and drink\")] = True \n",
    "\n",
    "    if \"Personal care\" in templist: \n",
    "        df.iloc[index, df.columns.get_loc(\"Personal care\")] = True \n",
    "    if \"Entertainment\" in templist: \n",
    "        df.iloc[index, df.columns.get_loc(\"Entertainment\")] = True\n",
    "    if \"Industries\" in templist: \n",
    "        df.iloc[index, df.columns.get_loc(\"Industries\")] = True \n",
    "    if \"Houses of worship\" in templist: \n",
    "        df.iloc[index, df.columns.get_loc(\"Houses of worship\")] = True  \n",
    "\n",
    "    \n",
    "df[\"Total Count\"] = 0  \n",
    "\n",
    "df[\"Total Count\"] = 0 \n",
    "incorrectcount = 0 \n",
    "for i in range(len(df.index)):\n",
    "    for j in range(len(df.columns)): \n",
    "        if(df.iat[i,j] == True): \n",
    "            df.iat[i,11] += 1\n",
    "\n",
    "            \n",
    "            \n",
    "            \n",
    "import datetime\n",
    "\n",
    "year = str(datetime.datetime.today().year) \n",
    "month = str(datetime.datetime.today().month) \n",
    "day = str(datetime.datetime.today().day) \n",
    "\n",
    "        \n",
    "        \n",
    "df.to_csv('SMB States Reopening NY Times Article ' + year + \".\" + month + \".\" + day + '.csv')\n"
   ]
  },
  {
   "cell_type": "markdown",
   "metadata": {},
   "source": [
    "# Sandbox"
   ]
  },
  {
   "cell_type": "code",
   "execution_count": 5,
   "metadata": {},
   "outputs": [
    {
     "name": "stdout",
     "output_type": "stream",
     "text": [
      "2020\n",
      "6\n",
      "18\n"
     ]
    }
   ],
   "source": [
    "\n"
   ]
  },
  {
   "cell_type": "code",
   "execution_count": 77,
   "metadata": {},
   "outputs": [
    {
     "data": {
      "text/plain": [
       "['Outdoor and recreation',\n",
       " 'Retail',\n",
       " 'Food and drink',\n",
       " 'Personal care',\n",
       " 'Entertainment',\n",
       " 'Industries',\n",
       " 'Houses of worship']"
      ]
     },
     "execution_count": 77,
     "metadata": {},
     "output_type": "execute_result"
    }
   ],
   "source": [
    "#reformat with columns for each type of stuff \n",
    "reopenedplaceslist\n",
    "\n",
    "templist = []\n",
    "\n",
    "for place in reopenedplaceslist: \n",
    "    for p in place: \n",
    "        if p not in templist: \n",
    "            templist.append(p) \n",
    "templist \n",
    "\n",
    "\n",
    "# ['Outdoor and recreation',\n",
    "#  'Retail',\n",
    "#  'Food and drink',\n",
    "#  'Personal care',\n",
    "#  'Entertainment',\n",
    "#  'Industries',\n",
    "#  'Houses of worship']"
   ]
  }
 ],
 "metadata": {
  "kernelspec": {
   "display_name": "Python 3",
   "language": "python",
   "name": "python3"
  },
  "language_info": {
   "codemirror_mode": {
    "name": "ipython",
    "version": 3
   },
   "file_extension": ".py",
   "mimetype": "text/x-python",
   "name": "python",
   "nbconvert_exporter": "python",
   "pygments_lexer": "ipython3",
   "version": "3.6.9"
  }
 },
 "nbformat": 4,
 "nbformat_minor": 4
}
